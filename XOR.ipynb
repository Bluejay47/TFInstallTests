{
 "cells": [
  {
   "cell_type": "code",
   "execution_count": 1,
   "metadata": {},
   "outputs": [],
   "source": [
    "import tensorflow as tf\n",
    "import pandas as pd \n",
    "import matplotlib.pyplot as plt\n",
    "import datetime\n",
    "from IPython.display import clear_output\n",
    "\n",
    "%matplotlib inline"
   ]
  },
  {
   "cell_type": "code",
   "execution_count": 2,
   "metadata": {},
   "outputs": [],
   "source": [
    "class Logger(tf.keras.callbacks.Callback):\n",
    "\n",
    "    def on_epoch_begin(self, epoch, logs=None):\n",
    "        clear_output(wait=True)\n",
    "        print(\"Epoch \" + str(epoch) + \" begins\")\n",
    "    def on_test_begin(self, logs=None):\n",
    "        clear_output(wait=True)\n",
    "        print(\"Testing begins\")\n",
    "    def on_test_end(self, logs=None):\n",
    "        clear_output(wait=True)\n",
    "        print(\"Testing ends\")\n",
    "    def on_train_begin(self, logs=None):\n",
    "        clear_output(wait=True)\n",
    "        print(\"Training begins\")\n",
    "    def on_train_end(self, logs=None):\n",
    "        clear_output(wait=True)\n",
    "        print(\"Training ends\")"
   ]
  },
  {
   "cell_type": "code",
   "execution_count": 7,
   "metadata": {},
   "outputs": [
    {
     "name": "stdout",
     "output_type": "stream",
     "text": [
      "Training ends\n"
     ]
    }
   ],
   "source": [
    "tf.keras.backend.clear_session()\n",
    "\n",
    "x = tf.constant ([[0,0], [0,1], [1,0], [1,1]])\n",
    "y = tf.constant ([0, 1, 1, 0])\n",
    "\n",
    "model = tf.keras.Sequential([\n",
    "    tf.keras.layers.InputLayer(input_shape=[2], batch_size=4),\n",
    "    tf.keras.layers.Dense(2, activation=\"tanh\", kernel_initializer=tf.keras.initializers.GlorotNormal()),\n",
    "    tf.keras.layers.Dense(1, activation=\"linear\")\n",
    "])\n",
    "\n",
    "optimizerSGD = tf.keras.optimizers.SGD()\n",
    "loss = tf.keras.losses.MeanAbsoluteError()\n",
    "\n",
    "#Adam Stage\n",
    "model.compile (optimizerSGD, loss, metrics=['accuracy'])\n",
    "\n",
    "clear_output(wait=True)\n",
    "history = model.fit(x,y, epochs=10000, verbose=0, callbacks=[Logger()])"
   ]
  },
  {
   "cell_type": "code",
   "execution_count": 8,
   "metadata": {},
   "outputs": [
    {
     "name": "stdout",
     "output_type": "stream",
     "text": [
      "[[2.3841858e-07]]\n",
      "[[0.98605776]]\n",
      "[[0.99898684]]\n",
      "[[-0.00939727]]\n"
     ]
    }
   ],
   "source": [
    "print(model.predict ([[0,0]]))\n",
    "print(model.predict ([[0,1]]))\n",
    "print(model.predict ([[1,0]]))\n",
    "print(model.predict ([[1,1]]))"
   ]
  },
  {
   "cell_type": "code",
   "execution_count": 9,
   "metadata": {},
   "outputs": [
    {
     "data": {
      "text/plain": [
       "(0, 1)"
      ]
     },
     "execution_count": 9,
     "metadata": {},
     "output_type": "execute_result"
    },
    {
     "data": {
      "image/png": "[encoded data removed]",
      "text/plain": [
       "<Figure size 432x288 with 1 Axes>"
      ]
     },
     "metadata": {
      "needs_background": "light"
     },
     "output_type": "display_data"
    }
   ],
   "source": [
    "pd.DataFrame (history.history) \n",
    "plt.plot(history.history[\"loss\"])\n",
    "plt.plot(history.history[\"accuracy\"])\n",
    "plt.grid(True) \n",
    "plt.gca().set_ylim(0,1)"
   ]
  },
  {
   "cell_type": "code",
   "execution_count": null,
   "metadata": {},
   "outputs": [],
   "source": []
  },
  {
   "cell_type": "code",
   "execution_count": null,
   "metadata": {},
   "outputs": [],
   "source": []
  }
 ],
 "metadata": {
  "kernelspec": {
   "display_name": "Python 3",
   "language": "python",
   "name": "python3"
  },
  "language_info": {
   "codemirror_mode": {
    "name": "ipython",
    "version": 3
   },
   "file_extension": ".py",
   "mimetype": "text/x-python",
   "name": "python",
   "nbconvert_exporter": "python",
   "pygments_lexer": "ipython3",
   "version": "3.7.5"
  }
 },
 "nbformat": 4,
 "nbformat_minor": 4
}
